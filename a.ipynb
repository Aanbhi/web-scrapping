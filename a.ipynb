import pandas as pd
import requests
from bs4 import BeautifulSoup
URL="https://www.amazon.in/s?k=playstation+5&crid=3PL8WMSFVGEUC&sprefix=playsta%2Caps%2C919&ref=nb_sb_ss_ts-doa-p_1_7"
# headers for request
HEADERS=({"User-Agent":"https://explore.whatismybrowser.com/useragents/parse/?analyse-my-user-agent=yes","Accept-Language":"en-US"})
# http request
webpage = requests.get(URL,headers=HEADERS)
print(type(webpage.content))
# soup object containing all data
soup = BeautifulSoup(webpage.content,"html.parser")
print(soup)
# fetch links as list of tag objects
links = soup.find_all("a",attrs={"class": 'a-link-normal s-underline-text s-underline-link-text s-link-style a-text-normal' } )
link=links[0].get("href")
print(link)
product_list = "https://www.amazon.in"+link
print(product_list)
new_webpage = requests.get(product_list,headers=HEADERS)
print(new_webpage)
new_soup = BeautifulSoup(webpage.content,"html.parser")
print(new_soup)
new_soup.find("span",attrs={"class":'a-size-medium a-color-base a-text-normal'}).text.strip()
new_soup.find("span",attrs={"class":'a-price'}).find("span",attrs={"class":'a-price-whole'}).text
new_soup.find("span",attrs={"class":"a-icon-alt"}).text.strip()

